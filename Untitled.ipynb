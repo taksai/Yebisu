{
 "cells": [
  {
   "cell_type": "code",
   "execution_count": 87,
   "metadata": {
    "collapsed": false
   },
   "outputs": [
    {
     "name": "stdout",
     "output_type": "stream",
     "text": [
      "\n",
      "な\n",
      "\n"
     ]
    },
    {
     "data": {
      "text/plain": [
       "1"
      ]
     },
     "execution_count": 87,
     "metadata": {},
     "output_type": "execute_result"
    }
   ],
   "source": [
    "import numpy as np\n",
    "import pandas as pd\n",
    "from sklearn.cross_validation import train_test_split\n",
    "from sklearn.metrics import accuracy_score, recall_score, precision_score, f1_score, confusion_matrix\n",
    "from sklearn.semi_supervised import LabelPropagation, LabelSpreading\n",
    "from sklearn.cross_validation import cross_val_score\n",
    "import MeCab\n",
    "import chainer\n",
    "from chainer import training\n",
    "from chainer.training import extensions\n",
    "from chainer import serializers\n",
    "import chainer.links as L\n",
    "import chainer.functions as F\n",
    "from chainer.datasets import tuple_dataset\n",
    "\n",
    "mecab = MeCab.Tagger(\"-Ochasen\")\n",
    "#col_name = pd.read_csv(\"termDF_conName.csv\", encoding=\"shift_jis\", header=1)\n",
    "col_name_test = pd.read_csv('col_name_test.csv', encoding=\"shift-jis\")\n",
    "#col_name_test.loc[0,:] = 0\n",
    "#col_name_test = col_name_test.drop([\"id\"], axis=1)\n",
    "#col_name.TERM\n",
    "#vardata.T\n",
    "tmp_col_name_test = col_name_test\n",
    "raw_string = u\"な\"\n",
    "mt = MeCab.Tagger('mecabrc')\n",
    "mt.parse('')\n",
    "\n",
    "node = mt.parseToNode(raw_string)\n",
    "text = np.array([])\n",
    "#words, nouns = get_surfaces(node), get_nouns(node)\n",
    "while node:\n",
    "    text = np.append(text, node.surface)\n",
    "#    if node.feature.startswith('名詞'):\n",
    "    print(node.surface) # <= 文字が取得できる！\n",
    "#    print(node.feature)\n",
    "    node = node.next\n",
    "for i in range(len(text)-1):\n",
    "    for j in range(0,len(tmp_col_name_test.columns) - 1):\n",
    "        if text[i] ==  tmp_col_name_test.columns[j]:\n",
    "            tmp_col_name_test.loc[0,text[i]] = 1 \n",
    "\n",
    "class MLP_bnorm_dropout(chainer.Chain):\n",
    "    def __init__(self, n_in, n_out):\n",
    "        super(MLP_bnorm_dropout, self).__init__(\n",
    "            l1=L.Linear(n_in, 2000),\n",
    "            l2=L.Linear(2000, 1000),\n",
    "            l3=L.Linear(1000, 500),\n",
    "            l4=L.Linear(500, n_out),\n",
    "            bnorm1 = L.BatchNormalization(2000),\n",
    "            bnorm2 = L.BatchNormalization(1000),\n",
    "            bnorm3 = L.BatchNormalization(500),\n",
    "        )\n",
    "    def __call__(self, x):\n",
    "        h = F.dropout(F.relu(self.bnorm1(self.l1(x))), ratio=0.5) #v2からtrain引数は不要なので注意\n",
    "        h = F.dropout(F.relu(self.bnorm2(self.l2(h))), ratio=0.5)\n",
    "        h = F.dropout(F.relu(self.bnorm3(self.l3(h))), ratio=0.5)\n",
    "        h = self.l4(h)\n",
    "        return h\n",
    "\n",
    "model = L.Classifier(MLP_bnorm_dropout(696, 7))\n",
    "#model = myDNN(100, 500, 10) # saveした時と同じ構成\n",
    "serializers.load_npz(\"mymodel.npz\", model)\n",
    "optimizer = chainer.optimizers.MomentumSGD(lr=0.01)\n",
    "#optimizer = chainer.optimizers.MomentumSGD(lr=0.001)\n",
    "optimizer.setup(model)\n",
    "\n",
    "x_test_df = tmp_col_name_test\n",
    "x_test_df = x_test_df.drop(\"Unnamed: 0\", axis=1)\n",
    "######### 学習用のパラメータ設定\n",
    "x_test = x_test_df.as_matrix()\n",
    "with chainer.using_config('train', False):\n",
    "    # テスト\n",
    "    y_test_pre = F.softmax(model.predictor(x_test.astype(np.float32))).data.argmax(axis=1)\n",
    "#    eval_score(y_test, y_test_pre)\n",
    "y_test_pre[0]\n",
    "#if y_test_pre == 0:\n",
    "#    output = "
   ]
  },
  {
   "cell_type": "code",
   "execution_count": 89,
   "metadata": {
    "collapsed": false
   },
   "outputs": [
    {
     "name": "stdout",
     "output_type": "stream",
     "text": [
      "\n",
      "な\n",
      "\n"
     ]
    },
    {
     "data": {
      "text/plain": [
       "1"
      ]
     },
     "execution_count": 89,
     "metadata": {},
     "output_type": "execute_result"
    }
   ],
   "source": [
    "import numpy as np\n",
    "import pandas as pd\n",
    "from sklearn.cross_validation import train_test_split\n",
    "from sklearn.metrics import accuracy_score, recall_score, precision_score, f1_score, confusion_matrix\n",
    "from sklearn.semi_supervised import LabelPropagation, LabelSpreading\n",
    "from sklearn.cross_validation import cross_val_score\n",
    "import MeCab\n",
    "import chainer\n",
    "from chainer import training\n",
    "from chainer.training import extensions\n",
    "from chainer import serializers\n",
    "import chainer.links as L\n",
    "import chainer.functions as F\n",
    "from chainer.datasets import tuple_dataset\n",
    "\n",
    "mecab = MeCab.Tagger(\"-Ochasen\")\n",
    "#col_name = pd.read_csv(\"termDF_conName.csv\", encoding=\"shift_jis\", header=1)\n",
    "col_name_test = pd.read_csv('col_name_test2.csv', encoding=\"shift-jis\")\n",
    "#col_name_test.loc[0,:] = 0\n",
    "#col_name_test = col_name_test.drop([\"id\"], axis=1)\n",
    "#col_name.TERM\n",
    "#vardata.T\n",
    "tmp_col_name_test = col_name_test\n",
    "raw_string = u\"な\"\n",
    "mt = MeCab.Tagger('mecabrc')\n",
    "mt.parse('')\n",
    "\n",
    "node = mt.parseToNode(raw_string)\n",
    "text = np.array([])\n",
    "#words, nouns = get_surfaces(node), get_nouns(node)\n",
    "while node:\n",
    "    text = np.append(text, node.surface)\n",
    "#    if node.feature.startswith('名詞'):\n",
    "    print(node.surface) # <= 文字が取得できる！\n",
    "#    print(node.feature)\n",
    "    node = node.next\n",
    "for i in range(len(text)-1):\n",
    "    for j in range(0,len(tmp_col_name_test.columns) - 1):\n",
    "        if text[i] ==  tmp_col_name_test.columns[j]:\n",
    "            tmp_col_name_test.loc[0,text[i]] = 1 \n",
    "\n",
    "class MLP_bnorm_dropout(chainer.Chain):\n",
    "    def __init__(self, n_in, n_out):\n",
    "        super(MLP_bnorm_dropout, self).__init__(\n",
    "            l1=L.Linear(n_in, 2000),\n",
    "            l2=L.Linear(2000, 1000),\n",
    "            l3=L.Linear(1000, 500),\n",
    "            l4=L.Linear(500, n_out),\n",
    "            bnorm1 = L.BatchNormalization(2000),\n",
    "            bnorm2 = L.BatchNormalization(1000),\n",
    "            bnorm3 = L.BatchNormalization(500),\n",
    "        )\n",
    "    def __call__(self, x):\n",
    "        h = F.dropout(F.relu(self.bnorm1(self.l1(x))), ratio=0.5) #v2からtrain引数は不要なので注意\n",
    "        h = F.dropout(F.relu(self.bnorm2(self.l2(h))), ratio=0.5)\n",
    "        h = F.dropout(F.relu(self.bnorm3(self.l3(h))), ratio=0.5)\n",
    "        h = self.l4(h)\n",
    "        return h\n",
    "\n",
    "model = L.Classifier(MLP_bnorm_dropout(840, 7))\n",
    "#model = myDNN(100, 500, 10) # saveした時と同じ構成\n",
    "serializers.load_npz(\"mymodel2.npz\", model)\n",
    "optimizer = chainer.optimizers.MomentumSGD(lr=0.01)\n",
    "#optimizer = chainer.optimizers.MomentumSGD(lr=0.001)\n",
    "optimizer.setup(model)\n",
    "\n",
    "x_test_df = tmp_col_name_test\n",
    "x_test_df = x_test_df.drop(\"Unnamed: 0\", axis=1)\n",
    "######### 学習用のパラメータ設定\n",
    "x_test = x_test_df.as_matrix()\n",
    "with chainer.using_config('train', False):\n",
    "    # テスト\n",
    "    y_test_pre = F.softmax(model.predictor(x_test.astype(np.float32))).data.argmax(axis=1)\n",
    "#    eval_score(y_test, y_test_pre)\n",
    "y_test_pre[0]\n",
    "#if y_test_pre == 0:\n",
    "#    output = "
   ]
  },
  {
   "cell_type": "code",
   "execution_count": 53,
   "metadata": {
    "collapsed": false
   },
   "outputs": [
    {
     "data": {
      "text/html": [
       "<div>\n",
       "<table border=\"1\" class=\"dataframe\">\n",
       "  <thead>\n",
       "    <tr style=\"text-align: right;\">\n",
       "      <th></th>\n",
       "      <th>％</th>\n",
       "      <th>A</th>\n",
       "      <th>B</th>\n",
       "      <th>C</th>\n",
       "      <th>FAQ</th>\n",
       "      <th>MLlib</th>\n",
       "      <th>MT</th>\n",
       "      <th>R</th>\n",
       "      <th>ああ</th>\n",
       "      <th>アイデア</th>\n",
       "      <th>...</th>\n",
       "      <th>良く</th>\n",
       "      <th>領域</th>\n",
       "      <th>例</th>\n",
       "      <th>例えば</th>\n",
       "      <th>論</th>\n",
       "      <th>論点</th>\n",
       "      <th>話し</th>\n",
       "      <th>話そ</th>\n",
       "      <th>話題</th>\n",
       "      <th>枠</th>\n",
       "    </tr>\n",
       "  </thead>\n",
       "  <tbody>\n",
       "    <tr>\n",
       "      <th>0</th>\n",
       "      <td>0</td>\n",
       "      <td>0</td>\n",
       "      <td>0</td>\n",
       "      <td>0</td>\n",
       "      <td>0</td>\n",
       "      <td>0</td>\n",
       "      <td>0</td>\n",
       "      <td>0</td>\n",
       "      <td>0</td>\n",
       "      <td>0</td>\n",
       "      <td>...</td>\n",
       "      <td>0</td>\n",
       "      <td>0</td>\n",
       "      <td>0</td>\n",
       "      <td>0</td>\n",
       "      <td>0</td>\n",
       "      <td>0</td>\n",
       "      <td>0</td>\n",
       "      <td>0</td>\n",
       "      <td>0</td>\n",
       "      <td>0</td>\n",
       "    </tr>\n",
       "  </tbody>\n",
       "</table>\n",
       "<p>1 rows × 696 columns</p>\n",
       "</div>"
      ],
      "text/plain": [
       "   ％  A  B  C  FAQ  MLlib  MT  R  ああ  アイデア ...  良く  領域  例  例えば  論  論点  話し  話そ  \\\n",
       "0  0  0  0  0    0      0   0  0   0     0 ...   0   0  0    0  0   0   0   0   \n",
       "\n",
       "   話題  枠  \n",
       "0   0  0  \n",
       "\n",
       "[1 rows x 696 columns]"
      ]
     },
     "execution_count": 53,
     "metadata": {},
     "output_type": "execute_result"
    }
   ],
   "source": [
    "x_test.drop(\"Unnamed: 0\", axis=1)"
   ]
  },
  {
   "cell_type": "code",
   "execution_count": 67,
   "metadata": {
    "collapsed": false
   },
   "outputs": [
    {
     "data": {
      "text/plain": [
       "array([0])"
      ]
     },
     "execution_count": 67,
     "metadata": {},
     "output_type": "execute_result"
    }
   ],
   "source": [
    "x_test.sum(axis=1)\n",
    "#col_name_test.sum(axis=1)"
   ]
  },
  {
   "cell_type": "code",
   "execution_count": 29,
   "metadata": {
    "collapsed": false
   },
   "outputs": [
    {
     "data": {
      "text/html": [
       "<div>\n",
       "<table border=\"1\" class=\"dataframe\">\n",
       "  <thead>\n",
       "    <tr style=\"text-align: right;\">\n",
       "      <th></th>\n",
       "      <th>Unnamed: 0</th>\n",
       "      <th>％</th>\n",
       "      <th>A</th>\n",
       "      <th>B</th>\n",
       "      <th>C</th>\n",
       "      <th>FAQ</th>\n",
       "      <th>MLlib</th>\n",
       "      <th>MT</th>\n",
       "      <th>R</th>\n",
       "      <th>ああ</th>\n",
       "      <th>...</th>\n",
       "      <th>良く</th>\n",
       "      <th>領域</th>\n",
       "      <th>例</th>\n",
       "      <th>例えば</th>\n",
       "      <th>論</th>\n",
       "      <th>論点</th>\n",
       "      <th>話し</th>\n",
       "      <th>話そ</th>\n",
       "      <th>話題</th>\n",
       "      <th>枠</th>\n",
       "    </tr>\n",
       "  </thead>\n",
       "  <tbody>\n",
       "    <tr>\n",
       "      <th>0</th>\n",
       "      <td>0</td>\n",
       "      <td>0</td>\n",
       "      <td>0</td>\n",
       "      <td>0</td>\n",
       "      <td>0</td>\n",
       "      <td>0</td>\n",
       "      <td>0</td>\n",
       "      <td>0</td>\n",
       "      <td>0</td>\n",
       "      <td>0</td>\n",
       "      <td>...</td>\n",
       "      <td>0</td>\n",
       "      <td>0</td>\n",
       "      <td>0</td>\n",
       "      <td>0</td>\n",
       "      <td>0</td>\n",
       "      <td>0</td>\n",
       "      <td>0</td>\n",
       "      <td>0</td>\n",
       "      <td>0</td>\n",
       "      <td>0</td>\n",
       "    </tr>\n",
       "  </tbody>\n",
       "</table>\n",
       "<p>1 rows × 697 columns</p>\n",
       "</div>"
      ],
      "text/plain": [
       "   Unnamed: 0  ％  A  B  C  FAQ  MLlib  MT  R  ああ ...  良く  領域  例  例えば  論  論点  \\\n",
       "0           0  0  0  0  0    0      0   0  0   0 ...   0   0  0    0  0   0   \n",
       "\n",
       "   話し  話そ  話題  枠  \n",
       "0   0   0   0  0  \n",
       "\n",
       "[1 rows x 697 columns]"
      ]
     },
     "execution_count": 29,
     "metadata": {},
     "output_type": "execute_result"
    }
   ],
   "source": [
    "col_name_test = pd.read_csv('col_name_test.csv', encoding=\"shift-jis\")\n",
    "col_name_test"
   ]
  },
  {
   "cell_type": "code",
   "execution_count": null,
   "metadata": {
    "collapsed": true
   },
   "outputs": [],
   "source": []
  }
 ],
 "metadata": {
  "kernelspec": {
   "display_name": "Python 3",
   "language": "python",
   "name": "python3"
  },
  "language_info": {
   "codemirror_mode": {
    "name": "ipython",
    "version": 3
   },
   "file_extension": ".py",
   "mimetype": "text/x-python",
   "name": "python",
   "nbconvert_exporter": "python",
   "pygments_lexer": "ipython3",
   "version": "3.5.1"
  },
  "widgets": {
   "state": {},
   "version": "1.1.0"
  }
 },
 "nbformat": 4,
 "nbformat_minor": 0
}
